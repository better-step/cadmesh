{
 "cells": [
  {
   "cell_type": "code",
   "execution_count": 2,
   "metadata": {},
   "outputs": [],
   "source": [
    "# Change directory to cadmesh repo until conda/pip deployment is ready\n",
    "import os\n",
    "os.chdir(\"/home/sebastian/Projects/ABC/cadmesh/\")"
   ]
  },
  {
   "cell_type": "code",
   "execution_count": 3,
   "metadata": {},
   "outputs": [],
   "source": [
    "from cadmesh import process_step_folder\n",
    "results = process_step_folder(data_path=\"data/abc_0000\", output_path=\"data/results/abc_0000\", log_path=\"data/log_abc\", file_pattern=\"*/*.step\", file_range=[800, -1])"
   ]
  },
  {
   "cell_type": "code",
   "execution_count": null,
   "metadata": {},
   "outputs": [],
   "source": [
    "from cadmesh import analyse_log_files\n",
    "analyse_log_files(\"data/log_abc/*.log\")"
   ]
  },
  {
   "cell_type": "code",
   "execution_count": 19,
   "metadata": {},
   "outputs": [
    {
     "name": "stdout",
     "output_type": "stream",
     "text": [
      "992\n"
     ]
    },
    {
     "data": {
      "application/vnd.jupyter.widget-view+json": {
       "model_id": "40977a4da6f6455d87c7dbcf3883af2c",
       "version_major": 2,
       "version_minor": 0
      },
      "text/plain": [
       "HBox(children=(HTML(value=''), FloatProgress(value=0.0, max=992.0), HTML(value='')))"
      ]
     },
     "metadata": {},
     "output_type": "display_data"
    },
    {
     "name": "stdout",
     "output_type": "stream",
     "text": [
      "\n"
     ]
    }
   ],
   "source": [
    "from yaml import CLoader\n",
    "import yaml\n",
    "\n",
    "def parse_geometry_files(path):\n",
    "    files = glob.glob(path)\n",
    "    print(len(files))\n",
    "    curve_types = []\n",
    "    surf_types = []\n",
    "    for file in tqdm(files):\n",
    "        try:\n",
    "            with open(file, \"r\") as fi:\n",
    "                parts = yaml.load(fi, Loader=CLoader)\n",
    "\n",
    "            if type(parts) == dict:\n",
    "                for p in parts[\"parts\"]:\n",
    "                    for c3d in p[\"3dcurves\"]:\n",
    "                        curve_types.append(c3d[\"type\"])\n",
    "                    for s3d in p[\"surfaces\"]:\n",
    "                        surf_types.append(s3d[\"type\"])\n",
    "        except:\n",
    "            continue\n",
    "    \n",
    "    return curve_types, surf_types\n",
    "                \n",
    "ct, st = parse_geometry_files(\"data/results_conv/*_geo.yaml\")"
   ]
  },
  {
   "cell_type": "code",
   "execution_count": 32,
   "metadata": {},
   "outputs": [
    {
     "name": "stdout",
     "output_type": "stream",
     "text": [
      "{'Line': 291341, 'BSpline': 188704, 'Circle': 189288, 'Ellipse': 10865, 'Other': 3711} {'Plane': 113428, 'Cylinder': 75372, 'Cone': 17282, 'Torus': 11986, 'Other': 0, 'Revolution': 3671, 'BSpline': 30706, 'Sphere': 3491, 'Extrusion': 2605, 'Offset': 136}\n"
     ]
    }
   ],
   "source": [
    "counts_c = {\"Line\": 0, \"BSpline\": 0, \"Circle\": 0, \"Ellipse\": 0, \"Other\": 0}\n",
    "for c in ct:\n",
    "    counts_c[c] += 1\n",
    "    \n",
    "counts_s = {\"Plane\": 0, \"Cylinder\": 0, \"Cone\": 0, \"Torus\": 0, \"Other\": 0, \"Revolution\": 0, \"BSpline\": 0, \"Sphere\": 0, \"Extrusion\": 0, \"Offset\": 0}\n",
    "for c in st:\n",
    "    counts_s[c] += 1\n",
    "print(counts_c, counts_s)"
   ]
  }
 ],
 "metadata": {
  "kernelspec": {
   "display_name": "Python 3",
   "language": "python",
   "name": "python3"
  },
  "language_info": {
   "codemirror_mode": {
    "name": "ipython",
    "version": 3
   },
   "file_extension": ".py",
   "mimetype": "text/x-python",
   "name": "python",
   "nbconvert_exporter": "python",
   "pygments_lexer": "ipython3",
   "version": "3.8.2"
  }
 },
 "nbformat": 4,
 "nbformat_minor": 4
}
