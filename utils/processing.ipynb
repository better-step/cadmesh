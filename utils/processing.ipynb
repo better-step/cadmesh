{
 "cells": [
  {
   "cell_type": "code",
   "execution_count": 1,
   "metadata": {},
   "outputs": [
    {
     "data": {
      "application/vnd.jupyter.widget-view+json": {
       "model_id": "06c7a53b13c44777baa2a43df4fecc88",
       "version_major": 2,
       "version_minor": 0
      },
      "text/plain": [
       "HBox(children=(HTML(value=''), FloatProgress(value=0.0, max=11.0), HTML(value='')))"
      ]
     },
     "metadata": {},
     "output_type": "display_data"
    },
    {
     "name": "stdout",
     "output_type": "stream",
     "text": [
      "\n"
     ]
    }
   ],
   "source": [
    "from tqdm.auto import tqdm\n",
    "import glob\n",
    "from pathlib import Path\n",
    "import os\n",
    "\n",
    "\n",
    "# Change directory to cadmesh repo until conda/pip deployment is ready\n",
    "os.chdir(\"/home/sebastian/Projects/ABC/cadmesh/\")\n",
    "\n",
    "from cadmesh import StepProcessor\n",
    "\n",
    "def process(data_path=\"./data/simple\", output_path=\"./data/results_simple\"):\n",
    "    data_dir = Path(data_path)\n",
    "    output_dir = Path(output_path)\n",
    "    \n",
    "    # Glob step files in data dir\n",
    "    extensions = [\"stp\", \"step\"]\n",
    "    step_files = []\n",
    "    for ext in extensions:\n",
    "        files = [ f for f in data_dir.glob(f\"*.{ext}\")]\n",
    "        step_files.extend(sorted(files))\n",
    "    \n",
    "    # Process step files\n",
    "    pbar = tqdm(range(len(step_files)))\n",
    "    for i in pbar:\n",
    "        pbar.set_description(\"Processing %s\"%step_files[i])\n",
    "        \n",
    "        log_dir = output_dir.stem.replace(\"results\", \"log\")\n",
    "        sp = StepProcessor(step_files[i], output_dir, log_dir)\n",
    "        sp.load_step_file()\n",
    "        sp.process_parts()\n",
    "            \n",
    "\n",
    "process(data_path=\"data/simple/\")"
   ]
  }
 ],
 "metadata": {
  "kernelspec": {
   "display_name": "Python 3",
   "language": "python",
   "name": "python3"
  },
  "language_info": {
   "codemirror_mode": {
    "name": "ipython",
    "version": 3
   },
   "file_extension": ".py",
   "mimetype": "text/x-python",
   "name": "python",
   "nbconvert_exporter": "python",
   "pygments_lexer": "ipython3",
   "version": "3.8.2"
  }
 },
 "nbformat": 4,
 "nbformat_minor": 4
}
