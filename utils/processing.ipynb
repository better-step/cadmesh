{
 "cells": [
  {
   "cell_type": "code",
   "execution_count": null,
   "metadata": {},
   "outputs": [],
   "source": [
    "# Change directory to cadmesh repo until conda/pip deployment is ready\n",
    "import os\n",
    "os.chdir(\"/home/sebastian/Projects/ABC/cadmesh/\")"
   ]
  },
  {
   "cell_type": "code",
   "execution_count": null,
   "metadata": {},
   "outputs": [],
   "source": [
    "# Process step files\n",
    "from cadmesh import process_step_folder\n",
    "results = process_step_folder(data_path=\"data/abc_0000\", output_path=\"data/results/abc_0000\", log_path=\"data/log_abc\", file_pattern=\"*/*.step\", file_range=[0, 10])"
   ]
  },
  {
   "cell_type": "code",
   "execution_count": null,
   "metadata": {},
   "outputs": [],
   "source": [
    "# Analyse log files to check how many files succeeded/failed in step processing\n",
    "from cadmesh import analyse_log_files\n",
    "analyse_log_files(\"data/log_abc/*.log\")"
   ]
  },
  {
   "cell_type": "code",
   "execution_count": null,
   "metadata": {},
   "outputs": [],
   "source": [
    "# Process geometry files to find curve and surface types      \n",
    "from cadmesh import analyse_curve_and_surface_types\n",
    "curves, surfs, rev_ext = analyse_curve_and_surface_types(\"data/results/abc_00*/*_geo.yaml\")"
   ]
  },
  {
   "cell_type": "code",
   "execution_count": null,
   "metadata": {},
   "outputs": [],
   "source": []
  }
 ],
 "metadata": {
  "kernelspec": {
   "display_name": "Python 3",
   "language": "python",
   "name": "python3"
  },
  "language_info": {
   "codemirror_mode": {
    "name": "ipython",
    "version": 3
   },
   "file_extension": ".py",
   "mimetype": "text/x-python",
   "name": "python",
   "nbconvert_exporter": "python",
   "pygments_lexer": "ipython3",
   "version": "3.8.2"
  }
 },
 "nbformat": 4,
 "nbformat_minor": 4
}
