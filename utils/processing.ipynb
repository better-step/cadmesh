{
 "cells": [
  {
   "cell_type": "code",
   "execution_count": null,
   "metadata": {},
   "outputs": [
    {
     "data": {
      "application/vnd.jupyter.widget-view+json": {
       "model_id": "7d2909e84f7e4078be931524967441a9",
       "version_major": 2,
       "version_minor": 0
      },
      "text/plain": [
       "HBox(children=(HTML(value='Processing step files'), FloatProgress(value=0.0, max=9200.0), HTML(value='')))"
      ]
     },
     "metadata": {},
     "output_type": "display_data"
    }
   ],
   "source": [
    "import os\n",
    "\n",
    "# Change directory to cadmesh repo until conda/pip deployment is ready\n",
    "os.chdir(\"/home/sebastian/Projects/ABC/cadmesh/\")\n",
    "\n",
    "from cadmesh import process_step_folder\n",
    "\n",
    "results = process_step_folder(data_path=\"data/abc_0000\", output_path=\"data/results/abc_0000\", log_path=\"data/log_abc_0000\", file_pattern=\"*/*.step\", file_range=[800, -1])"
   ]
  },
  {
   "cell_type": "code",
   "execution_count": 2,
   "metadata": {},
   "outputs": [
    {
     "name": "stdout",
     "output_type": "stream",
     "text": [
      "956\n"
     ]
    },
    {
     "data": {
      "application/vnd.jupyter.widget-view+json": {
       "model_id": "7672b5e7f6cc496385a793a31e41ec0f",
       "version_major": 2,
       "version_minor": 0
      },
      "text/plain": [
       "HBox(children=(HTML(value=''), FloatProgress(value=0.0, max=1000.0), HTML(value='')))"
      ]
     },
     "metadata": {},
     "output_type": "display_data"
    },
    {
     "name": "stdout",
     "output_type": "stream",
     "text": [
      "\n"
     ]
    }
   ],
   "source": [
    "print(sum(results))\n",
    "\n",
    "import glob\n",
    "from tqdm.auto import tqdm\n",
    "import datetime\n",
    "logs = sorted(glob.glob(\"data/log_conv/*.log\"))\n",
    "\n",
    "times = []\n",
    "parts = []\n",
    "errors = []\n",
    "elogs = []\n",
    "n_errors = []\n",
    "n_elogs = []\n",
    "success = []\n",
    "\n",
    "pbar = tqdm(range(len(logs)))\n",
    "for i in pbar:\n",
    "    #pbar.set_description(\"Processing %s\"%logs[i])\n",
    "    log = logs[i]\n",
    "    with open(log, \"r\") as fi:\n",
    "        lines = fi.readlines()\n",
    "        \n",
    "    if len(lines) < 2:\n",
    "        errors.append(i)\n",
    "        elogs.append(\"%i: %s\"%(i, \"Lines missing\"))\n",
    "        continue\n",
    "    time_start = \" \".join(lines[0].split(\" \")[:2])[:-4]\n",
    "    time_end = \" \".join(lines[-1].split(\" \")[:2])[:-4]\n",
    "    #for line in lines:\n",
    "    t_s = datetime.datetime.strptime(time_start, '%Y-%m-%d %H:%M:%S')\n",
    "    t_e = datetime.datetime.strptime(time_end, '%Y-%m-%d %H:%M:%S')\n",
    "    times.append((t_e - t_s).total_seconds())\n",
    "    \n",
    "    try:\n",
    "        parts.append(int(lines[1].split(\" \")[5]))\n",
    "    except:\n",
    "        parts.append(0)\n",
    "        errors.append(i)\n",
    "        elogs.append(\"%i: %s\"%(i, \"Translation problem\"))\n",
    "    \n",
    "    for line in lines:\n",
    "        if \"ERROR\" in line and \"Nurbs conversion error\" in line:\n",
    "            n_errors.append(i)\n",
    "            n_elogs.append(\"%i: %s\"%(i, line))\n",
    "        elif \"ERROR\" in line and not \"Nurbs conversion error\" in line:\n",
    "            errors.append(i)\n",
    "            elogs.append(\"%i: %s\"%(i, line))\n",
    "            \n",
    "        if \"Stat dict: Done\" in line:\n",
    "            success.append(i)\n"
   ]
  },
  {
   "cell_type": "code",
   "execution_count": 19,
   "metadata": {},
   "outputs": [
    {
     "name": "stdout",
     "output_type": "stream",
     "text": [
      "992\n"
     ]
    },
    {
     "data": {
      "application/vnd.jupyter.widget-view+json": {
       "model_id": "40977a4da6f6455d87c7dbcf3883af2c",
       "version_major": 2,
       "version_minor": 0
      },
      "text/plain": [
       "HBox(children=(HTML(value=''), FloatProgress(value=0.0, max=992.0), HTML(value='')))"
      ]
     },
     "metadata": {},
     "output_type": "display_data"
    },
    {
     "name": "stdout",
     "output_type": "stream",
     "text": [
      "\n"
     ]
    }
   ],
   "source": [
    "from yaml import CLoader\n",
    "import yaml\n",
    "\n",
    "def parse_geometry_files(path):\n",
    "    files = glob.glob(path)\n",
    "    print(len(files))\n",
    "    curve_types = []\n",
    "    surf_types = []\n",
    "    for file in tqdm(files):\n",
    "        try:\n",
    "            with open(file, \"r\") as fi:\n",
    "                parts = yaml.load(fi, Loader=CLoader)\n",
    "\n",
    "            if type(parts) == dict:\n",
    "                for p in parts[\"parts\"]:\n",
    "                    for c3d in p[\"3dcurves\"]:\n",
    "                        curve_types.append(c3d[\"type\"])\n",
    "                    for s3d in p[\"surfaces\"]:\n",
    "                        surf_types.append(s3d[\"type\"])\n",
    "        except:\n",
    "            continue\n",
    "    \n",
    "    return curve_types, surf_types\n",
    "                \n",
    "ct, st = parse_geometry_files(\"data/results_conv/*_geo.yaml\")"
   ]
  },
  {
   "cell_type": "code",
   "execution_count": 32,
   "metadata": {},
   "outputs": [
    {
     "name": "stdout",
     "output_type": "stream",
     "text": [
      "{'Line': 291341, 'BSpline': 188704, 'Circle': 189288, 'Ellipse': 10865, 'Other': 3711} {'Plane': 113428, 'Cylinder': 75372, 'Cone': 17282, 'Torus': 11986, 'Other': 0, 'Revolution': 3671, 'BSpline': 30706, 'Sphere': 3491, 'Extrusion': 2605, 'Offset': 136}\n"
     ]
    }
   ],
   "source": [
    "counts_c = {\"Line\": 0, \"BSpline\": 0, \"Circle\": 0, \"Ellipse\": 0, \"Other\": 0}\n",
    "for c in ct:\n",
    "    counts_c[c] += 1\n",
    "    \n",
    "counts_s = {\"Plane\": 0, \"Cylinder\": 0, \"Cone\": 0, \"Torus\": 0, \"Other\": 0, \"Revolution\": 0, \"BSpline\": 0, \"Sphere\": 0, \"Extrusion\": 0, \"Offset\": 0}\n",
    "for c in st:\n",
    "    counts_s[c] += 1\n",
    "print(counts_c, counts_s)"
   ]
  }
 ],
 "metadata": {
  "kernelspec": {
   "display_name": "Python 3",
   "language": "python",
   "name": "python3"
  },
  "language_info": {
   "codemirror_mode": {
    "name": "ipython",
    "version": 3
   },
   "file_extension": ".py",
   "mimetype": "text/x-python",
   "name": "python",
   "nbconvert_exporter": "python",
   "pygments_lexer": "ipython3",
   "version": "3.8.2"
  }
 },
 "nbformat": 4,
 "nbformat_minor": 4
}
